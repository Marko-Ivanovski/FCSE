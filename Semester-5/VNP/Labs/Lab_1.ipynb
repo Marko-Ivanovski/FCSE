{
  "nbformat": 4,
  "nbformat_minor": 0,
  "metadata": {
    "colab": {
      "provenance": []
    },
    "kernelspec": {
      "name": "python3",
      "display_name": "Python 3"
    },
    "language_info": {
      "name": "python"
    }
  },
  "cells": [
    {
      "cell_type": "markdown",
      "source": [
        "# Lab Exercise 1. Scraping Static Websites\n"
      ],
      "metadata": {
        "id": "skreU4ZawqQ_"
      }
    },
    {
      "cell_type": "markdown",
      "source": [
        "This is the warmup task for the first laboratory exercise. It consists of scraping static Websites with BeautifulSoap.\n",
        "\n",
        " It should be completed at home and presented at the laboratory."
      ],
      "metadata": {
        "id": "VzAWoqz5wwT9"
      }
    },
    {
      "cell_type": "markdown",
      "source": [
        "**Total points: 2**"
      ],
      "metadata": {
        "id": "qpdvbrsow5EE"
      }
    },
    {
      "cell_type": "markdown",
      "source": [
        "### Task Description"
      ],
      "metadata": {
        "id": "6eDmGLrXx0t8"
      }
    },
    {
      "cell_type": "markdown",
      "source": [
        "Scrape the information about the products on the following page:\n",
        "https://clevershop.mk/product-category/mobilni-laptopi-i-tableti/"
      ],
      "metadata": {
        "id": "RG42MHsDxAP_"
      }
    },
    {
      "cell_type": "markdown",
      "source": [
        "For each product scrape:\n",
        "\n",
        "\n",
        "*   Product title (selector `'.wd-entities-title'`)\n",
        "*   Product regular price (selector `'.woocommerce-Price-amount'`)\n",
        "*   Product discount price (if available), same selector as regular price\n",
        "*   URL to the product page\n",
        "*   Add to cart button URL\n",
        "\n",
        "***Help: There are multiple product pages, for each page you need to send a separate request***\n"
      ],
      "metadata": {
        "id": "uoTcMRl4xP3G"
      }
    },
    {
      "cell_type": "markdown",
      "source": [
        "Save the results as a DataFrame object"
      ],
      "metadata": {
        "id": "tc0QvUR8xxwt"
      }
    },
    {
      "cell_type": "markdown",
      "source": [
        "You can add as many code cells as you need."
      ],
      "metadata": {
        "id": "peGjiUZLzbZt"
      }
    },
    {
      "cell_type": "markdown",
      "source": [
        "________________________________________________________________"
      ],
      "metadata": {
        "id": "b7U-kwKSzUIV"
      }
    },
    {
      "cell_type": "markdown",
      "source": [
        "### Requirements"
      ],
      "metadata": {
        "id": "yn5gyMzNx5Vk"
      }
    },
    {
      "cell_type": "markdown",
      "source": [
        "Import libraries and modules that you are going to use"
      ],
      "metadata": {
        "id": "WZ3ifNLhx7tk"
      }
    },
    {
      "cell_type": "code",
      "source": [
        "import requests\n",
        "from bs4 import BeautifulSoup\n",
        "import pandas as pd"
      ],
      "metadata": {
        "id": "GQ3zSO8WyJC_"
      },
      "execution_count": 1,
      "outputs": []
    },
    {
      "cell_type": "markdown",
      "source": [
        "### Send HTTP request to the target Website"
      ],
      "metadata": {
        "id": "fsR71mugyJP7"
      }
    },
    {
      "cell_type": "code",
      "source": [
        "response = requests.get(\"https://clevershop.mk/product-category/mobilni-laptopi-i-tableti/\")\n",
        "response"
      ],
      "metadata": {
        "id": "61ImGen2yQff",
        "colab": {
          "base_uri": "https://localhost:8080/"
        },
        "outputId": "0b2e1c75-21a2-4a67-c6f8-6952d244537d"
      },
      "execution_count": 42,
      "outputs": [
        {
          "output_type": "execute_result",
          "data": {
            "text/plain": [
              "<Response [200]>"
            ]
          },
          "metadata": {},
          "execution_count": 42
        }
      ]
    },
    {
      "cell_type": "markdown",
      "source": [
        "check the response status code"
      ],
      "metadata": {
        "id": "lFnRsSVJyXit"
      }
    },
    {
      "cell_type": "code",
      "source": [
        "response.status_code"
      ],
      "metadata": {
        "id": "xy6xJ3RGyXUN",
        "colab": {
          "base_uri": "https://localhost:8080/"
        },
        "outputId": "4f130e30-3e0f-41f6-a00a-a8a12abdfb93"
      },
      "execution_count": 43,
      "outputs": [
        {
          "output_type": "execute_result",
          "data": {
            "text/plain": [
              "200"
            ]
          },
          "metadata": {},
          "execution_count": 43
        }
      ]
    },
    {
      "cell_type": "markdown",
      "source": [
        "### Parse the response content with BeautifulSoap"
      ],
      "metadata": {
        "id": "-MykzAV4yQ4j"
      }
    },
    {
      "cell_type": "code",
      "source": [
        "soup = BeautifulSoup(response.text, \"html.parser\")"
      ],
      "metadata": {
        "id": "F92A3wvlyUBc"
      },
      "execution_count": 44,
      "outputs": []
    },
    {
      "cell_type": "markdown",
      "source": [
        "### Extract data from the BeautifulSoap object using any selectors, attribute identifiers, etc."
      ],
      "metadata": {
        "id": "F8hifMvVycfV"
      }
    },
    {
      "cell_type": "markdown",
      "source": [
        "* Product title (selector '.wd-entities-title')\n",
        "* Product regular price (selector '.woocommerce-Price-amount')\n",
        "* Product discount price (if available), same selector as regular price\n",
        "* URL to the product page\n",
        "* Add to cart button URL"
      ],
      "metadata": {
        "id": "sHgfHr61y2tD"
      }
    },
    {
      "cell_type": "code",
      "source": [
        "title= soup.select('.wd-entities-title')\n",
        "title[:5]"
      ],
      "metadata": {
        "id": "UV1kZCRyycQF",
        "colab": {
          "base_uri": "https://localhost:8080/"
        },
        "collapsed": true,
        "outputId": "0b2020e0-98e5-4aed-95eb-1b4c53e501f3"
      },
      "execution_count": 45,
      "outputs": [
        {
          "output_type": "execute_result",
          "data": {
            "text/plain": [
              "[<a class=\"wd-entities-title\" href=\"https://clevershop.mk/product/oukitel-wp20-pro/\" title=\"Oukitel WP20 Pro\">\n",
              " Oukitel WP20 Pro\t\t\t</a>,\n",
              " <a class=\"wd-entities-title\" href=\"https://clevershop.mk/product/oukitel-wp20/\" title=\"Oukitel WP20\">\n",
              " Oukitel WP20\t\t\t</a>,\n",
              " <h3 class=\"wd-entities-title\"><a href=\"https://clevershop.mk/product/acer-a315-23-a7kd/\">Acer A315-23-A7KD</a></h3>,\n",
              " <h3 class=\"wd-entities-title\"><a href=\"https://clevershop.mk/product/acer-a315-23-r5p2/\">Acer A315-23-R5P2</a></h3>,\n",
              " <h3 class=\"wd-entities-title\"><a href=\"https://clevershop.mk/product/acer-aspire-1-nx-a7pex-001/\">ACER Aspire 1 A115-22</a></h3>]"
            ]
          },
          "metadata": {},
          "execution_count": 45
        }
      ]
    },
    {
      "cell_type": "code",
      "source": [
        "price = soup.select('.woocommerce-Price-amount')\n",
        "price[:5]"
      ],
      "metadata": {
        "colab": {
          "base_uri": "https://localhost:8080/"
        },
        "id": "E6q1rqrPceOJ",
        "outputId": "e2a8ec28-2ebe-4d6a-a9d5-82fdd90fbc68"
      },
      "execution_count": 30,
      "outputs": [
        {
          "output_type": "execute_result",
          "data": {
            "text/plain": [
              "[<span class=\"woocommerce-Price-amount amount\"><bdi>0 <span class=\"woocommerce-Price-currencySymbol\">ден</span></bdi></span>,\n",
              " <span class=\"woocommerce-Price-amount amount\"><bdi>0 <span class=\"woocommerce-Price-currencySymbol\">ден</span></bdi></span>,\n",
              " <span class=\"woocommerce-Price-amount amount\"><bdi>9.890 <span class=\"woocommerce-Price-currencySymbol\">ден</span></bdi></span>,\n",
              " <span class=\"woocommerce-Price-amount amount\"><bdi>8.490 <span class=\"woocommerce-Price-currencySymbol\">ден</span></bdi></span>,\n",
              " <span class=\"woocommerce-Price-amount amount\"><bdi>17.590 <span class=\"woocommerce-Price-currencySymbol\">ден</span></bdi></span>]"
            ]
          },
          "metadata": {},
          "execution_count": 30
        }
      ]
    },
    {
      "cell_type": "code",
      "source": [
        "discount = soup.select('.woocommerce-Price-amount')\n",
        "discount_prices = discount[:5] if len(discount) >= 3 else []"
      ],
      "metadata": {
        "id": "3OzEQmyecjTW"
      },
      "execution_count": 36,
      "outputs": []
    },
    {
      "cell_type": "code",
      "source": [
        "links = [a.get('href') for a in soup.select('a')]\n",
        "links[:5]"
      ],
      "metadata": {
        "colab": {
          "base_uri": "https://localhost:8080/"
        },
        "id": "4QbJ716odf3-",
        "outputId": "aea26b1c-23eb-4ac9-8d77-6f7f777125da"
      },
      "execution_count": 35,
      "outputs": [
        {
          "output_type": "execute_result",
          "data": {
            "text/plain": [
              "['https://www.facebook.com/sharer/sharer.php?u=https://clevershop.mk/product-category/mobilni-laptopi-i-tableti/',\n",
              " 'https://twitter.com/share?url=https://clevershop.mk/product-category/mobilni-laptopi-i-tableti/',\n",
              " 'https://pinterest.com/pin/create/button/?url=https://clevershop.mk/product-category/mobilni-laptopi-i-tableti/&media=https://clevershop.mk/wp-content/uploads/2022/08/acer-a315-23-a7kd-nxhvuex037_62ae121eb61d9.png&description=Acer+A315-23-A7KD',\n",
              " 'https://www.linkedin.com/shareArticle?mini=true&url=https://clevershop.mk/product-category/mobilni-laptopi-i-tableti/',\n",
              " 'https://telegram.me/share/url?url=https://clevershop.mk/product-category/mobilni-laptopi-i-tableti/']"
            ]
          },
          "metadata": {},
          "execution_count": 35
        }
      ]
    },
    {
      "cell_type": "code",
      "source": [
        "buttons = [a.get('href') for a in soup.select('a.button') if a.get('href')]\n",
        "buttons[:5]"
      ],
      "metadata": {
        "colab": {
          "base_uri": "https://localhost:8080/"
        },
        "id": "QIIgZEuMedZ_",
        "outputId": "d14ca110-d142-4798-8a4f-2a2a7efe460e"
      },
      "execution_count": 39,
      "outputs": [
        {
          "output_type": "execute_result",
          "data": {
            "text/plain": [
              "['?add-to-cart=21494',\n",
              " '?add-to-cart=21510',\n",
              " '?add-to-cart=20826',\n",
              " '?add-to-cart=21516',\n",
              " '?add-to-cart=21498']"
            ]
          },
          "metadata": {},
          "execution_count": 39
        }
      ]
    },
    {
      "cell_type": "markdown",
      "source": [
        "Repeat the extraction process for each page of products"
      ],
      "metadata": {
        "id": "gToy7d5Jy9Qk"
      }
    },
    {
      "cell_type": "code",
      "source": [
        "base_url = \"https://clevershop.mk/product-category/mobilni-laptopi-i-tableti/page/\"\n",
        "\n",
        "def multiple_pages(product):\n",
        "    title = product.select_one('.wd-entities-title').text.strip() if product.select_one('.wd-entities-title') else None\n",
        "    price = product.select_one('.woocommerce-Price-amount').text.strip() if product.select_one('.woocommerce-Price-amount') else None\n",
        "    link = product.select_one('a')['href'] if product.select_one('a') else None\n",
        "    button = product.select_one('a.button')['href'] if product.select_one('a.button') else None\n",
        "\n",
        "    product_dict = {\n",
        "        \"ProductTitle\": title,\n",
        "        \"Price\": price,\n",
        "        \"Link\": link,\n",
        "        \"AddToCartButton\": button\n",
        "    }\n",
        "\n",
        "    return product_dict\n",
        "\n",
        "all_products = []\n",
        "for i in range(1, 14):\n",
        "    url = f\"{base_url}{i}/\"\n",
        "    response = requests.get(url)\n",
        "\n",
        "    if response.status_code == 200:\n",
        "        soup = BeautifulSoup(response.text, \"html.parser\")\n",
        "        products = soup.select('.product')\n",
        "\n",
        "        if products:\n",
        "            for product in products:\n",
        "                result = multiple_pages(product)\n",
        "                all_products.append(result)\n",
        "        else:\n",
        "            print(f\"No products found on page {i}.\")\n",
        "    else:\n",
        "        print(f\"Failed to retrieve page {i}. Status code: {response.status_code}\")"
      ],
      "metadata": {
        "id": "s2lwc0oVd__m"
      },
      "execution_count": 62,
      "outputs": []
    },
    {
      "cell_type": "markdown",
      "source": [
        "### Create a pandas DataFrame with the scraped products"
      ],
      "metadata": {
        "id": "R4OIUt0AynuU"
      }
    },
    {
      "cell_type": "code",
      "source": [
        "final = pd.DataFrame(all_products)\n",
        "final.head()"
      ],
      "metadata": {
        "id": "-wCzGEj8yrKU",
        "colab": {
          "base_uri": "https://localhost:8080/",
          "height": 206
        },
        "outputId": "a174a824-819e-4898-c230-cc4bb5bf4c14"
      },
      "execution_count": 64,
      "outputs": [
        {
          "output_type": "execute_result",
          "data": {
            "text/plain": [
              "                 ProductTitle       Price  \\\n",
              "0           Acer A315-23-A7KD  17.590 ден   \n",
              "1           Acer A315-23-R5P2  27.490 ден   \n",
              "2       ACER Aspire 1 A115-22  18.999 ден   \n",
              "3  Acer Aspire 3 A315-23-R26A  29.990 ден   \n",
              "4  Acer Aspire 3 A315-58-33WK  24.490 ден   \n",
              "\n",
              "                                                Link     AddToCartButton  \n",
              "0   https://clevershop.mk/product/acer-a315-23-a7kd/  ?add-to-cart=21494  \n",
              "1   https://clevershop.mk/product/acer-a315-23-r5p2/  ?add-to-cart=21510  \n",
              "2  https://clevershop.mk/product/acer-aspire-1-nx...  ?add-to-cart=20826  \n",
              "3  https://clevershop.mk/product/acer-aspire-3-a3...  ?add-to-cart=21516  \n",
              "4               https://clevershop.mk/product/21498/  ?add-to-cart=21498  "
            ],
            "text/html": [
              "\n",
              "  <div id=\"df-f3efca55-3591-4374-a82d-da436eda6895\" class=\"colab-df-container\">\n",
              "    <div>\n",
              "<style scoped>\n",
              "    .dataframe tbody tr th:only-of-type {\n",
              "        vertical-align: middle;\n",
              "    }\n",
              "\n",
              "    .dataframe tbody tr th {\n",
              "        vertical-align: top;\n",
              "    }\n",
              "\n",
              "    .dataframe thead th {\n",
              "        text-align: right;\n",
              "    }\n",
              "</style>\n",
              "<table border=\"1\" class=\"dataframe\">\n",
              "  <thead>\n",
              "    <tr style=\"text-align: right;\">\n",
              "      <th></th>\n",
              "      <th>ProductTitle</th>\n",
              "      <th>Price</th>\n",
              "      <th>Link</th>\n",
              "      <th>AddToCartButton</th>\n",
              "    </tr>\n",
              "  </thead>\n",
              "  <tbody>\n",
              "    <tr>\n",
              "      <th>0</th>\n",
              "      <td>Acer A315-23-A7KD</td>\n",
              "      <td>17.590 ден</td>\n",
              "      <td>https://clevershop.mk/product/acer-a315-23-a7kd/</td>\n",
              "      <td>?add-to-cart=21494</td>\n",
              "    </tr>\n",
              "    <tr>\n",
              "      <th>1</th>\n",
              "      <td>Acer A315-23-R5P2</td>\n",
              "      <td>27.490 ден</td>\n",
              "      <td>https://clevershop.mk/product/acer-a315-23-r5p2/</td>\n",
              "      <td>?add-to-cart=21510</td>\n",
              "    </tr>\n",
              "    <tr>\n",
              "      <th>2</th>\n",
              "      <td>ACER Aspire 1 A115-22</td>\n",
              "      <td>18.999 ден</td>\n",
              "      <td>https://clevershop.mk/product/acer-aspire-1-nx...</td>\n",
              "      <td>?add-to-cart=20826</td>\n",
              "    </tr>\n",
              "    <tr>\n",
              "      <th>3</th>\n",
              "      <td>Acer Aspire 3 A315-23-R26A</td>\n",
              "      <td>29.990 ден</td>\n",
              "      <td>https://clevershop.mk/product/acer-aspire-3-a3...</td>\n",
              "      <td>?add-to-cart=21516</td>\n",
              "    </tr>\n",
              "    <tr>\n",
              "      <th>4</th>\n",
              "      <td>Acer Aspire 3 A315-58-33WK</td>\n",
              "      <td>24.490 ден</td>\n",
              "      <td>https://clevershop.mk/product/21498/</td>\n",
              "      <td>?add-to-cart=21498</td>\n",
              "    </tr>\n",
              "  </tbody>\n",
              "</table>\n",
              "</div>\n",
              "    <div class=\"colab-df-buttons\">\n",
              "\n",
              "  <div class=\"colab-df-container\">\n",
              "    <button class=\"colab-df-convert\" onclick=\"convertToInteractive('df-f3efca55-3591-4374-a82d-da436eda6895')\"\n",
              "            title=\"Convert this dataframe to an interactive table.\"\n",
              "            style=\"display:none;\">\n",
              "\n",
              "  <svg xmlns=\"http://www.w3.org/2000/svg\" height=\"24px\" viewBox=\"0 -960 960 960\">\n",
              "    <path d=\"M120-120v-720h720v720H120Zm60-500h600v-160H180v160Zm220 220h160v-160H400v160Zm0 220h160v-160H400v160ZM180-400h160v-160H180v160Zm440 0h160v-160H620v160ZM180-180h160v-160H180v160Zm440 0h160v-160H620v160Z\"/>\n",
              "  </svg>\n",
              "    </button>\n",
              "\n",
              "  <style>\n",
              "    .colab-df-container {\n",
              "      display:flex;\n",
              "      gap: 12px;\n",
              "    }\n",
              "\n",
              "    .colab-df-convert {\n",
              "      background-color: #E8F0FE;\n",
              "      border: none;\n",
              "      border-radius: 50%;\n",
              "      cursor: pointer;\n",
              "      display: none;\n",
              "      fill: #1967D2;\n",
              "      height: 32px;\n",
              "      padding: 0 0 0 0;\n",
              "      width: 32px;\n",
              "    }\n",
              "\n",
              "    .colab-df-convert:hover {\n",
              "      background-color: #E2EBFA;\n",
              "      box-shadow: 0px 1px 2px rgba(60, 64, 67, 0.3), 0px 1px 3px 1px rgba(60, 64, 67, 0.15);\n",
              "      fill: #174EA6;\n",
              "    }\n",
              "\n",
              "    .colab-df-buttons div {\n",
              "      margin-bottom: 4px;\n",
              "    }\n",
              "\n",
              "    [theme=dark] .colab-df-convert {\n",
              "      background-color: #3B4455;\n",
              "      fill: #D2E3FC;\n",
              "    }\n",
              "\n",
              "    [theme=dark] .colab-df-convert:hover {\n",
              "      background-color: #434B5C;\n",
              "      box-shadow: 0px 1px 3px 1px rgba(0, 0, 0, 0.15);\n",
              "      filter: drop-shadow(0px 1px 2px rgba(0, 0, 0, 0.3));\n",
              "      fill: #FFFFFF;\n",
              "    }\n",
              "  </style>\n",
              "\n",
              "    <script>\n",
              "      const buttonEl =\n",
              "        document.querySelector('#df-f3efca55-3591-4374-a82d-da436eda6895 button.colab-df-convert');\n",
              "      buttonEl.style.display =\n",
              "        google.colab.kernel.accessAllowed ? 'block' : 'none';\n",
              "\n",
              "      async function convertToInteractive(key) {\n",
              "        const element = document.querySelector('#df-f3efca55-3591-4374-a82d-da436eda6895');\n",
              "        const dataTable =\n",
              "          await google.colab.kernel.invokeFunction('convertToInteractive',\n",
              "                                                    [key], {});\n",
              "        if (!dataTable) return;\n",
              "\n",
              "        const docLinkHtml = 'Like what you see? Visit the ' +\n",
              "          '<a target=\"_blank\" href=https://colab.research.google.com/notebooks/data_table.ipynb>data table notebook</a>'\n",
              "          + ' to learn more about interactive tables.';\n",
              "        element.innerHTML = '';\n",
              "        dataTable['output_type'] = 'display_data';\n",
              "        await google.colab.output.renderOutput(dataTable, element);\n",
              "        const docLink = document.createElement('div');\n",
              "        docLink.innerHTML = docLinkHtml;\n",
              "        element.appendChild(docLink);\n",
              "      }\n",
              "    </script>\n",
              "  </div>\n",
              "\n",
              "\n",
              "<div id=\"df-b5ef95c5-ffc9-44bb-a2bd-e4f7124af2a8\">\n",
              "  <button class=\"colab-df-quickchart\" onclick=\"quickchart('df-b5ef95c5-ffc9-44bb-a2bd-e4f7124af2a8')\"\n",
              "            title=\"Suggest charts\"\n",
              "            style=\"display:none;\">\n",
              "\n",
              "<svg xmlns=\"http://www.w3.org/2000/svg\" height=\"24px\"viewBox=\"0 0 24 24\"\n",
              "     width=\"24px\">\n",
              "    <g>\n",
              "        <path d=\"M19 3H5c-1.1 0-2 .9-2 2v14c0 1.1.9 2 2 2h14c1.1 0 2-.9 2-2V5c0-1.1-.9-2-2-2zM9 17H7v-7h2v7zm4 0h-2V7h2v10zm4 0h-2v-4h2v4z\"/>\n",
              "    </g>\n",
              "</svg>\n",
              "  </button>\n",
              "\n",
              "<style>\n",
              "  .colab-df-quickchart {\n",
              "      --bg-color: #E8F0FE;\n",
              "      --fill-color: #1967D2;\n",
              "      --hover-bg-color: #E2EBFA;\n",
              "      --hover-fill-color: #174EA6;\n",
              "      --disabled-fill-color: #AAA;\n",
              "      --disabled-bg-color: #DDD;\n",
              "  }\n",
              "\n",
              "  [theme=dark] .colab-df-quickchart {\n",
              "      --bg-color: #3B4455;\n",
              "      --fill-color: #D2E3FC;\n",
              "      --hover-bg-color: #434B5C;\n",
              "      --hover-fill-color: #FFFFFF;\n",
              "      --disabled-bg-color: #3B4455;\n",
              "      --disabled-fill-color: #666;\n",
              "  }\n",
              "\n",
              "  .colab-df-quickchart {\n",
              "    background-color: var(--bg-color);\n",
              "    border: none;\n",
              "    border-radius: 50%;\n",
              "    cursor: pointer;\n",
              "    display: none;\n",
              "    fill: var(--fill-color);\n",
              "    height: 32px;\n",
              "    padding: 0;\n",
              "    width: 32px;\n",
              "  }\n",
              "\n",
              "  .colab-df-quickchart:hover {\n",
              "    background-color: var(--hover-bg-color);\n",
              "    box-shadow: 0 1px 2px rgba(60, 64, 67, 0.3), 0 1px 3px 1px rgba(60, 64, 67, 0.15);\n",
              "    fill: var(--button-hover-fill-color);\n",
              "  }\n",
              "\n",
              "  .colab-df-quickchart-complete:disabled,\n",
              "  .colab-df-quickchart-complete:disabled:hover {\n",
              "    background-color: var(--disabled-bg-color);\n",
              "    fill: var(--disabled-fill-color);\n",
              "    box-shadow: none;\n",
              "  }\n",
              "\n",
              "  .colab-df-spinner {\n",
              "    border: 2px solid var(--fill-color);\n",
              "    border-color: transparent;\n",
              "    border-bottom-color: var(--fill-color);\n",
              "    animation:\n",
              "      spin 1s steps(1) infinite;\n",
              "  }\n",
              "\n",
              "  @keyframes spin {\n",
              "    0% {\n",
              "      border-color: transparent;\n",
              "      border-bottom-color: var(--fill-color);\n",
              "      border-left-color: var(--fill-color);\n",
              "    }\n",
              "    20% {\n",
              "      border-color: transparent;\n",
              "      border-left-color: var(--fill-color);\n",
              "      border-top-color: var(--fill-color);\n",
              "    }\n",
              "    30% {\n",
              "      border-color: transparent;\n",
              "      border-left-color: var(--fill-color);\n",
              "      border-top-color: var(--fill-color);\n",
              "      border-right-color: var(--fill-color);\n",
              "    }\n",
              "    40% {\n",
              "      border-color: transparent;\n",
              "      border-right-color: var(--fill-color);\n",
              "      border-top-color: var(--fill-color);\n",
              "    }\n",
              "    60% {\n",
              "      border-color: transparent;\n",
              "      border-right-color: var(--fill-color);\n",
              "    }\n",
              "    80% {\n",
              "      border-color: transparent;\n",
              "      border-right-color: var(--fill-color);\n",
              "      border-bottom-color: var(--fill-color);\n",
              "    }\n",
              "    90% {\n",
              "      border-color: transparent;\n",
              "      border-bottom-color: var(--fill-color);\n",
              "    }\n",
              "  }\n",
              "</style>\n",
              "\n",
              "  <script>\n",
              "    async function quickchart(key) {\n",
              "      const quickchartButtonEl =\n",
              "        document.querySelector('#' + key + ' button');\n",
              "      quickchartButtonEl.disabled = true;  // To prevent multiple clicks.\n",
              "      quickchartButtonEl.classList.add('colab-df-spinner');\n",
              "      try {\n",
              "        const charts = await google.colab.kernel.invokeFunction(\n",
              "            'suggestCharts', [key], {});\n",
              "      } catch (error) {\n",
              "        console.error('Error during call to suggestCharts:', error);\n",
              "      }\n",
              "      quickchartButtonEl.classList.remove('colab-df-spinner');\n",
              "      quickchartButtonEl.classList.add('colab-df-quickchart-complete');\n",
              "    }\n",
              "    (() => {\n",
              "      let quickchartButtonEl =\n",
              "        document.querySelector('#df-b5ef95c5-ffc9-44bb-a2bd-e4f7124af2a8 button');\n",
              "      quickchartButtonEl.style.display =\n",
              "        google.colab.kernel.accessAllowed ? 'block' : 'none';\n",
              "    })();\n",
              "  </script>\n",
              "</div>\n",
              "    </div>\n",
              "  </div>\n"
            ],
            "application/vnd.google.colaboratory.intrinsic+json": {
              "type": "dataframe",
              "variable_name": "final",
              "summary": "{\n  \"name\": \"final\",\n  \"rows\": 312,\n  \"fields\": [\n    {\n      \"column\": \"ProductTitle\",\n      \"properties\": {\n        \"dtype\": \"string\",\n        \"num_unique_values\": 307,\n        \"samples\": [\n          \"MSI GeForce RTX 3060 VENTUS 3X 12G OC\",\n          \"Apple iPhone SE 128GB 3GB RAM\",\n          \"Google Pixel 6 Pro 256GB 12GB\"\n        ],\n        \"semantic_type\": \"\",\n        \"description\": \"\"\n      }\n    },\n    {\n      \"column\": \"Price\",\n      \"properties\": {\n        \"dtype\": \"string\",\n        \"num_unique_values\": 179,\n        \"samples\": [\n          \"43.990\\u00a0\\u0434\\u0435\\u043d\",\n          \"5.290\\u00a0\\u0434\\u0435\\u043d\",\n          \"27.590\\u00a0\\u0434\\u0435\\u043d\"\n        ],\n        \"semantic_type\": \"\",\n        \"description\": \"\"\n      }\n    },\n    {\n      \"column\": \"Link\",\n      \"properties\": {\n        \"dtype\": \"string\",\n        \"num_unique_values\": 312,\n        \"samples\": [\n          \"https://clevershop.mk/product/samsung-galaxy-s21-fe-5g-128gb-8gb-ram/\",\n          \"https://clevershop.mk/product/acer-aspire-5-a515-45-r1fgnx-a7yex-005/\",\n          \"https://clevershop.mk/product/apple-iphone-13-pro-max-256gb-6gb-ram/\"\n        ],\n        \"semantic_type\": \"\",\n        \"description\": \"\"\n      }\n    },\n    {\n      \"column\": \"AddToCartButton\",\n      \"properties\": {\n        \"dtype\": \"string\",\n        \"num_unique_values\": 312,\n        \"samples\": [\n          \"?add-to-cart=18717\",\n          \"?add-to-cart=18324\",\n          \"?add-to-cart=18924\"\n        ],\n        \"semantic_type\": \"\",\n        \"description\": \"\"\n      }\n    }\n  ]\n}"
            }
          },
          "metadata": {},
          "execution_count": 64
        }
      ]
    },
    {
      "cell_type": "markdown",
      "source": [
        "Save the dataframe as `.csv`"
      ],
      "metadata": {
        "id": "Rxbi54EOyrb8"
      }
    },
    {
      "cell_type": "code",
      "source": [
        "final.to_csv('all_products_csvfile.csv', index=False)"
      ],
      "metadata": {
        "id": "TLNfZQ07yuQE"
      },
      "execution_count": 65,
      "outputs": []
    }
  ]
}