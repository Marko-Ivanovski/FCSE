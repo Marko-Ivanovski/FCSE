{
  "nbformat": 4,
  "nbformat_minor": 0,
  "metadata": {
    "colab": {
      "provenance": [],
      "toc_visible": true
    },
    "kernelspec": {
      "name": "python3",
      "display_name": "Python 3"
    },
    "language_info": {
      "name": "python"
    }
  },
  "cells": [
    {
      "cell_type": "markdown",
      "source": [
        "# Lab 4"
      ],
      "metadata": {
        "id": "htuyH4_jqGJQ"
      }
    },
    {
      "cell_type": "markdown",
      "source": [
        "## Importing Libraries"
      ],
      "metadata": {
        "id": "7gJcY57NqH2s"
      }
    },
    {
      "cell_type": "code",
      "source": [
        "import pandas as pd\n",
        "import numpy as np\n",
        "from sklearn.preprocessing import LabelEncoder, OneHotEncoder\n",
        "from sklearn.model_selection import train_test_split\n",
        "from sklearn.tree import DecisionTreeClassifier, plot_tree\n",
        "from sklearn.metrics import classification_report, accuracy_score\n",
        "import matplotlib.pyplot as plt\n",
        "from sklearn.ensemble import RandomForestClassifier\n",
        "from sklearn.neural_network import MLPClassifier"
      ],
      "metadata": {
        "id": "BTDkq0BdqLJg"
      },
      "execution_count": 91,
      "outputs": []
    },
    {
      "cell_type": "markdown",
      "source": [
        "## Dataset"
      ],
      "metadata": {
        "id": "3UlZ1A1KqiGH"
      }
    },
    {
      "cell_type": "code",
      "source": [
        "column_names = ['buying', 'maint', 'doors', 'persons', 'lug_boot', 'safety', 'class']\n",
        "\n",
        "df = pd.read_csv('./sample_data/car.data', names=column_names)"
      ],
      "metadata": {
        "id": "WAADkKyrqlB_"
      },
      "execution_count": 4,
      "outputs": []
    },
    {
      "cell_type": "markdown",
      "source": [
        "### First 5 Rows"
      ],
      "metadata": {
        "id": "AMWjJIqNrL6s"
      }
    },
    {
      "cell_type": "code",
      "source": [
        "df.head()"
      ],
      "metadata": {
        "colab": {
          "base_uri": "https://localhost:8080/",
          "height": 206
        },
        "id": "NM4_SznUrOEK",
        "outputId": "5ce04ecd-145d-4ac6-e367-3f960449eef3"
      },
      "execution_count": 5,
      "outputs": [
        {
          "output_type": "execute_result",
          "data": {
            "text/plain": [
              "  buying  maint doors persons lug_boot safety  class\n",
              "0  vhigh  vhigh     2       2    small    low  unacc\n",
              "1  vhigh  vhigh     2       2    small    med  unacc\n",
              "2  vhigh  vhigh     2       2    small   high  unacc\n",
              "3  vhigh  vhigh     2       2      med    low  unacc\n",
              "4  vhigh  vhigh     2       2      med    med  unacc"
            ],
            "text/html": [
              "\n",
              "  <div id=\"df-e769f2cc-91b7-4140-b0df-af911960726d\" class=\"colab-df-container\">\n",
              "    <div>\n",
              "<style scoped>\n",
              "    .dataframe tbody tr th:only-of-type {\n",
              "        vertical-align: middle;\n",
              "    }\n",
              "\n",
              "    .dataframe tbody tr th {\n",
              "        vertical-align: top;\n",
              "    }\n",
              "\n",
              "    .dataframe thead th {\n",
              "        text-align: right;\n",
              "    }\n",
              "</style>\n",
              "<table border=\"1\" class=\"dataframe\">\n",
              "  <thead>\n",
              "    <tr style=\"text-align: right;\">\n",
              "      <th></th>\n",
              "      <th>buying</th>\n",
              "      <th>maint</th>\n",
              "      <th>doors</th>\n",
              "      <th>persons</th>\n",
              "      <th>lug_boot</th>\n",
              "      <th>safety</th>\n",
              "      <th>class</th>\n",
              "    </tr>\n",
              "  </thead>\n",
              "  <tbody>\n",
              "    <tr>\n",
              "      <th>0</th>\n",
              "      <td>vhigh</td>\n",
              "      <td>vhigh</td>\n",
              "      <td>2</td>\n",
              "      <td>2</td>\n",
              "      <td>small</td>\n",
              "      <td>low</td>\n",
              "      <td>unacc</td>\n",
              "    </tr>\n",
              "    <tr>\n",
              "      <th>1</th>\n",
              "      <td>vhigh</td>\n",
              "      <td>vhigh</td>\n",
              "      <td>2</td>\n",
              "      <td>2</td>\n",
              "      <td>small</td>\n",
              "      <td>med</td>\n",
              "      <td>unacc</td>\n",
              "    </tr>\n",
              "    <tr>\n",
              "      <th>2</th>\n",
              "      <td>vhigh</td>\n",
              "      <td>vhigh</td>\n",
              "      <td>2</td>\n",
              "      <td>2</td>\n",
              "      <td>small</td>\n",
              "      <td>high</td>\n",
              "      <td>unacc</td>\n",
              "    </tr>\n",
              "    <tr>\n",
              "      <th>3</th>\n",
              "      <td>vhigh</td>\n",
              "      <td>vhigh</td>\n",
              "      <td>2</td>\n",
              "      <td>2</td>\n",
              "      <td>med</td>\n",
              "      <td>low</td>\n",
              "      <td>unacc</td>\n",
              "    </tr>\n",
              "    <tr>\n",
              "      <th>4</th>\n",
              "      <td>vhigh</td>\n",
              "      <td>vhigh</td>\n",
              "      <td>2</td>\n",
              "      <td>2</td>\n",
              "      <td>med</td>\n",
              "      <td>med</td>\n",
              "      <td>unacc</td>\n",
              "    </tr>\n",
              "  </tbody>\n",
              "</table>\n",
              "</div>\n",
              "    <div class=\"colab-df-buttons\">\n",
              "\n",
              "  <div class=\"colab-df-container\">\n",
              "    <button class=\"colab-df-convert\" onclick=\"convertToInteractive('df-e769f2cc-91b7-4140-b0df-af911960726d')\"\n",
              "            title=\"Convert this dataframe to an interactive table.\"\n",
              "            style=\"display:none;\">\n",
              "\n",
              "  <svg xmlns=\"http://www.w3.org/2000/svg\" height=\"24px\" viewBox=\"0 -960 960 960\">\n",
              "    <path d=\"M120-120v-720h720v720H120Zm60-500h600v-160H180v160Zm220 220h160v-160H400v160Zm0 220h160v-160H400v160ZM180-400h160v-160H180v160Zm440 0h160v-160H620v160ZM180-180h160v-160H180v160Zm440 0h160v-160H620v160Z\"/>\n",
              "  </svg>\n",
              "    </button>\n",
              "\n",
              "  <style>\n",
              "    .colab-df-container {\n",
              "      display:flex;\n",
              "      gap: 12px;\n",
              "    }\n",
              "\n",
              "    .colab-df-convert {\n",
              "      background-color: #E8F0FE;\n",
              "      border: none;\n",
              "      border-radius: 50%;\n",
              "      cursor: pointer;\n",
              "      display: none;\n",
              "      fill: #1967D2;\n",
              "      height: 32px;\n",
              "      padding: 0 0 0 0;\n",
              "      width: 32px;\n",
              "    }\n",
              "\n",
              "    .colab-df-convert:hover {\n",
              "      background-color: #E2EBFA;\n",
              "      box-shadow: 0px 1px 2px rgba(60, 64, 67, 0.3), 0px 1px 3px 1px rgba(60, 64, 67, 0.15);\n",
              "      fill: #174EA6;\n",
              "    }\n",
              "\n",
              "    .colab-df-buttons div {\n",
              "      margin-bottom: 4px;\n",
              "    }\n",
              "\n",
              "    [theme=dark] .colab-df-convert {\n",
              "      background-color: #3B4455;\n",
              "      fill: #D2E3FC;\n",
              "    }\n",
              "\n",
              "    [theme=dark] .colab-df-convert:hover {\n",
              "      background-color: #434B5C;\n",
              "      box-shadow: 0px 1px 3px 1px rgba(0, 0, 0, 0.15);\n",
              "      filter: drop-shadow(0px 1px 2px rgba(0, 0, 0, 0.3));\n",
              "      fill: #FFFFFF;\n",
              "    }\n",
              "  </style>\n",
              "\n",
              "    <script>\n",
              "      const buttonEl =\n",
              "        document.querySelector('#df-e769f2cc-91b7-4140-b0df-af911960726d button.colab-df-convert');\n",
              "      buttonEl.style.display =\n",
              "        google.colab.kernel.accessAllowed ? 'block' : 'none';\n",
              "\n",
              "      async function convertToInteractive(key) {\n",
              "        const element = document.querySelector('#df-e769f2cc-91b7-4140-b0df-af911960726d');\n",
              "        const dataTable =\n",
              "          await google.colab.kernel.invokeFunction('convertToInteractive',\n",
              "                                                    [key], {});\n",
              "        if (!dataTable) return;\n",
              "\n",
              "        const docLinkHtml = 'Like what you see? Visit the ' +\n",
              "          '<a target=\"_blank\" href=https://colab.research.google.com/notebooks/data_table.ipynb>data table notebook</a>'\n",
              "          + ' to learn more about interactive tables.';\n",
              "        element.innerHTML = '';\n",
              "        dataTable['output_type'] = 'display_data';\n",
              "        await google.colab.output.renderOutput(dataTable, element);\n",
              "        const docLink = document.createElement('div');\n",
              "        docLink.innerHTML = docLinkHtml;\n",
              "        element.appendChild(docLink);\n",
              "      }\n",
              "    </script>\n",
              "  </div>\n",
              "\n",
              "\n",
              "    <div id=\"df-8ad496ff-d7fb-40db-bc7c-a5d9b8d0a264\">\n",
              "      <button class=\"colab-df-quickchart\" onclick=\"quickchart('df-8ad496ff-d7fb-40db-bc7c-a5d9b8d0a264')\"\n",
              "                title=\"Suggest charts\"\n",
              "                style=\"display:none;\">\n",
              "\n",
              "<svg xmlns=\"http://www.w3.org/2000/svg\" height=\"24px\"viewBox=\"0 0 24 24\"\n",
              "     width=\"24px\">\n",
              "    <g>\n",
              "        <path d=\"M19 3H5c-1.1 0-2 .9-2 2v14c0 1.1.9 2 2 2h14c1.1 0 2-.9 2-2V5c0-1.1-.9-2-2-2zM9 17H7v-7h2v7zm4 0h-2V7h2v10zm4 0h-2v-4h2v4z\"/>\n",
              "    </g>\n",
              "</svg>\n",
              "      </button>\n",
              "\n",
              "<style>\n",
              "  .colab-df-quickchart {\n",
              "      --bg-color: #E8F0FE;\n",
              "      --fill-color: #1967D2;\n",
              "      --hover-bg-color: #E2EBFA;\n",
              "      --hover-fill-color: #174EA6;\n",
              "      --disabled-fill-color: #AAA;\n",
              "      --disabled-bg-color: #DDD;\n",
              "  }\n",
              "\n",
              "  [theme=dark] .colab-df-quickchart {\n",
              "      --bg-color: #3B4455;\n",
              "      --fill-color: #D2E3FC;\n",
              "      --hover-bg-color: #434B5C;\n",
              "      --hover-fill-color: #FFFFFF;\n",
              "      --disabled-bg-color: #3B4455;\n",
              "      --disabled-fill-color: #666;\n",
              "  }\n",
              "\n",
              "  .colab-df-quickchart {\n",
              "    background-color: var(--bg-color);\n",
              "    border: none;\n",
              "    border-radius: 50%;\n",
              "    cursor: pointer;\n",
              "    display: none;\n",
              "    fill: var(--fill-color);\n",
              "    height: 32px;\n",
              "    padding: 0;\n",
              "    width: 32px;\n",
              "  }\n",
              "\n",
              "  .colab-df-quickchart:hover {\n",
              "    background-color: var(--hover-bg-color);\n",
              "    box-shadow: 0 1px 2px rgba(60, 64, 67, 0.3), 0 1px 3px 1px rgba(60, 64, 67, 0.15);\n",
              "    fill: var(--button-hover-fill-color);\n",
              "  }\n",
              "\n",
              "  .colab-df-quickchart-complete:disabled,\n",
              "  .colab-df-quickchart-complete:disabled:hover {\n",
              "    background-color: var(--disabled-bg-color);\n",
              "    fill: var(--disabled-fill-color);\n",
              "    box-shadow: none;\n",
              "  }\n",
              "\n",
              "  .colab-df-spinner {\n",
              "    border: 2px solid var(--fill-color);\n",
              "    border-color: transparent;\n",
              "    border-bottom-color: var(--fill-color);\n",
              "    animation:\n",
              "      spin 1s steps(1) infinite;\n",
              "  }\n",
              "\n",
              "  @keyframes spin {\n",
              "    0% {\n",
              "      border-color: transparent;\n",
              "      border-bottom-color: var(--fill-color);\n",
              "      border-left-color: var(--fill-color);\n",
              "    }\n",
              "    20% {\n",
              "      border-color: transparent;\n",
              "      border-left-color: var(--fill-color);\n",
              "      border-top-color: var(--fill-color);\n",
              "    }\n",
              "    30% {\n",
              "      border-color: transparent;\n",
              "      border-left-color: var(--fill-color);\n",
              "      border-top-color: var(--fill-color);\n",
              "      border-right-color: var(--fill-color);\n",
              "    }\n",
              "    40% {\n",
              "      border-color: transparent;\n",
              "      border-right-color: var(--fill-color);\n",
              "      border-top-color: var(--fill-color);\n",
              "    }\n",
              "    60% {\n",
              "      border-color: transparent;\n",
              "      border-right-color: var(--fill-color);\n",
              "    }\n",
              "    80% {\n",
              "      border-color: transparent;\n",
              "      border-right-color: var(--fill-color);\n",
              "      border-bottom-color: var(--fill-color);\n",
              "    }\n",
              "    90% {\n",
              "      border-color: transparent;\n",
              "      border-bottom-color: var(--fill-color);\n",
              "    }\n",
              "  }\n",
              "</style>\n",
              "\n",
              "      <script>\n",
              "        async function quickchart(key) {\n",
              "          const quickchartButtonEl =\n",
              "            document.querySelector('#' + key + ' button');\n",
              "          quickchartButtonEl.disabled = true;  // To prevent multiple clicks.\n",
              "          quickchartButtonEl.classList.add('colab-df-spinner');\n",
              "          try {\n",
              "            const charts = await google.colab.kernel.invokeFunction(\n",
              "                'suggestCharts', [key], {});\n",
              "          } catch (error) {\n",
              "            console.error('Error during call to suggestCharts:', error);\n",
              "          }\n",
              "          quickchartButtonEl.classList.remove('colab-df-spinner');\n",
              "          quickchartButtonEl.classList.add('colab-df-quickchart-complete');\n",
              "        }\n",
              "        (() => {\n",
              "          let quickchartButtonEl =\n",
              "            document.querySelector('#df-8ad496ff-d7fb-40db-bc7c-a5d9b8d0a264 button');\n",
              "          quickchartButtonEl.style.display =\n",
              "            google.colab.kernel.accessAllowed ? 'block' : 'none';\n",
              "        })();\n",
              "      </script>\n",
              "    </div>\n",
              "    </div>\n",
              "  </div>\n"
            ],
            "application/vnd.google.colaboratory.intrinsic+json": {
              "type": "dataframe",
              "variable_name": "df",
              "summary": "{\n  \"name\": \"df\",\n  \"rows\": 1728,\n  \"fields\": [\n    {\n      \"column\": \"buying\",\n      \"properties\": {\n        \"dtype\": \"category\",\n        \"num_unique_values\": 4,\n        \"samples\": [\n          \"high\",\n          \"low\",\n          \"vhigh\"\n        ],\n        \"semantic_type\": \"\",\n        \"description\": \"\"\n      }\n    },\n    {\n      \"column\": \"maint\",\n      \"properties\": {\n        \"dtype\": \"category\",\n        \"num_unique_values\": 4,\n        \"samples\": [\n          \"high\",\n          \"low\",\n          \"vhigh\"\n        ],\n        \"semantic_type\": \"\",\n        \"description\": \"\"\n      }\n    },\n    {\n      \"column\": \"doors\",\n      \"properties\": {\n        \"dtype\": \"category\",\n        \"num_unique_values\": 4,\n        \"samples\": [\n          \"3\",\n          \"5more\",\n          \"2\"\n        ],\n        \"semantic_type\": \"\",\n        \"description\": \"\"\n      }\n    },\n    {\n      \"column\": \"persons\",\n      \"properties\": {\n        \"dtype\": \"category\",\n        \"num_unique_values\": 3,\n        \"samples\": [\n          \"2\",\n          \"4\",\n          \"more\"\n        ],\n        \"semantic_type\": \"\",\n        \"description\": \"\"\n      }\n    },\n    {\n      \"column\": \"lug_boot\",\n      \"properties\": {\n        \"dtype\": \"category\",\n        \"num_unique_values\": 3,\n        \"samples\": [\n          \"small\",\n          \"med\",\n          \"big\"\n        ],\n        \"semantic_type\": \"\",\n        \"description\": \"\"\n      }\n    },\n    {\n      \"column\": \"safety\",\n      \"properties\": {\n        \"dtype\": \"category\",\n        \"num_unique_values\": 3,\n        \"samples\": [\n          \"low\",\n          \"med\",\n          \"high\"\n        ],\n        \"semantic_type\": \"\",\n        \"description\": \"\"\n      }\n    },\n    {\n      \"column\": \"class\",\n      \"properties\": {\n        \"dtype\": \"category\",\n        \"num_unique_values\": 4,\n        \"samples\": [\n          \"acc\",\n          \"good\",\n          \"unacc\"\n        ],\n        \"semantic_type\": \"\",\n        \"description\": \"\"\n      }\n    }\n  ]\n}"
            }
          },
          "metadata": {},
          "execution_count": 5
        }
      ]
    },
    {
      "cell_type": "markdown",
      "source": [
        "### Data Info"
      ],
      "metadata": {
        "id": "RzSfBvMirkzS"
      }
    },
    {
      "cell_type": "code",
      "source": [
        "df.info()"
      ],
      "metadata": {
        "colab": {
          "base_uri": "https://localhost:8080/"
        },
        "id": "bigr2c7OrnSR",
        "outputId": "c96a4acf-21de-4e65-9643-1bd2ce63be52"
      },
      "execution_count": 6,
      "outputs": [
        {
          "output_type": "stream",
          "name": "stdout",
          "text": [
            "<class 'pandas.core.frame.DataFrame'>\n",
            "RangeIndex: 1728 entries, 0 to 1727\n",
            "Data columns (total 7 columns):\n",
            " #   Column    Non-Null Count  Dtype \n",
            "---  ------    --------------  ----- \n",
            " 0   buying    1728 non-null   object\n",
            " 1   maint     1728 non-null   object\n",
            " 2   doors     1728 non-null   object\n",
            " 3   persons   1728 non-null   object\n",
            " 4   lug_boot  1728 non-null   object\n",
            " 5   safety    1728 non-null   object\n",
            " 6   class     1728 non-null   object\n",
            "dtypes: object(7)\n",
            "memory usage: 94.6+ KB\n"
          ]
        }
      ]
    },
    {
      "cell_type": "code",
      "source": [
        "for col in df.columns:\n",
        "  print(f\"{col}: {df[col].unique()}\")"
      ],
      "metadata": {
        "colab": {
          "base_uri": "https://localhost:8080/"
        },
        "id": "A_un4_BJrr-0",
        "outputId": "1599179e-1d22-476e-b1ff-18e99f66896c"
      },
      "execution_count": 8,
      "outputs": [
        {
          "output_type": "stream",
          "name": "stdout",
          "text": [
            "buying: ['vhigh' 'high' 'med' 'low']\n",
            "maint: ['vhigh' 'high' 'med' 'low']\n",
            "doors: ['2' '3' '4' '5more']\n",
            "persons: ['2' '4' 'more']\n",
            "lug_boot: ['small' 'med' 'big']\n",
            "safety: ['low' 'med' 'high']\n",
            "class: ['unacc' 'acc' 'vgood' 'good']\n"
          ]
        }
      ]
    },
    {
      "cell_type": "code",
      "source": [
        "print(f\"Dataset shape: {df.shape}\")"
      ],
      "metadata": {
        "colab": {
          "base_uri": "https://localhost:8080/"
        },
        "id": "xQkGhTJ3r8rU",
        "outputId": "92aa2c60-4509-44b3-8586-810982bc43b9"
      },
      "execution_count": 10,
      "outputs": [
        {
          "output_type": "stream",
          "name": "stdout",
          "text": [
            "Dataset shape: (1728, 7)\n"
          ]
        }
      ]
    },
    {
      "cell_type": "markdown",
      "source": [
        "## Preprocessing"
      ],
      "metadata": {
        "id": "0tZUApqOtVCV"
      }
    },
    {
      "cell_type": "markdown",
      "source": [
        "There are no missing values, so there is no need for imputing or removing rows."
      ],
      "metadata": {
        "id": "Xu-jjqm5tZxR"
      }
    },
    {
      "cell_type": "markdown",
      "source": [
        "### Label Encoder"
      ],
      "metadata": {
        "id": "F4JmTPnGtkcQ"
      }
    },
    {
      "cell_type": "markdown",
      "source": [
        "For Decision Tree and Random Forest (tree-based models), label encoding categorical features is usually enough. These models can handle integer-encoded categories well without implying ordinal relationships."
      ],
      "metadata": {
        "id": "V6iszoUYtmnK"
      }
    },
    {
      "cell_type": "code",
      "source": [
        "le = LabelEncoder()\n",
        "data_le = df.copy()\n",
        "for col in data_le.columns:\n",
        "    data_le[col] = le.fit_transform(data_le[col])\n",
        "\n",
        "X_le = data_le.drop('class', axis=1)\n",
        "y_le = data_le['class']"
      ],
      "metadata": {
        "id": "XH36p7ubtptp"
      },
      "execution_count": 12,
      "outputs": []
    },
    {
      "cell_type": "code",
      "source": [
        "X_train_le, X_test_le, y_train_le, y_test_le = train_test_split(X_le, y_le, test_size=0.2, random_state=42)"
      ],
      "metadata": {
        "id": "oGJQ5BUfuoVT"
      },
      "execution_count": 13,
      "outputs": []
    },
    {
      "cell_type": "markdown",
      "source": [
        "### One-Hot Encoder"
      ],
      "metadata": {
        "id": "BYG1VXpXuTHd"
      }
    },
    {
      "cell_type": "markdown",
      "source": [
        "For Neural Networks, one-hot encoding is generally better since neural nets can misinterpret integer labels as ordinal. One-hot encoding prevents that by creating separate binary features for each category."
      ],
      "metadata": {
        "id": "GwbX7-8quauL"
      }
    },
    {
      "cell_type": "code",
      "source": [
        "X_nn = pd.get_dummies(df.drop('class', axis=1))\n",
        "le_target = LabelEncoder()\n",
        "y_nn = le_target.fit_transform(df['class'])"
      ],
      "metadata": {
        "id": "j4_1Mc3huWMW"
      },
      "execution_count": 14,
      "outputs": []
    },
    {
      "cell_type": "code",
      "source": [
        "X_train_nn, X_test_nn, y_train_nn, y_test_nn = train_test_split(X_nn, y_nn, test_size=0.2, random_state=42)"
      ],
      "metadata": {
        "id": "4VBX8waHvPC9"
      },
      "execution_count": 15,
      "outputs": []
    },
    {
      "cell_type": "markdown",
      "source": [
        "## Implementation of Models"
      ],
      "metadata": {
        "id": "lw2XOxVIvzNu"
      }
    },
    {
      "cell_type": "markdown",
      "source": [
        "### Decision Tree"
      ],
      "metadata": {
        "id": "MVu8U33Tv3w7"
      }
    },
    {
      "cell_type": "markdown",
      "source": [
        "Training a Decision Tree classifier using the label-encoded features, while experimenting with parameters such as `max_depth`, `min_samples_split`, `criterion`, and visualizing the tree and analyze feature importance."
      ],
      "metadata": {
        "id": "WlgLEEw8v9Z3"
      }
    },
    {
      "cell_type": "code",
      "source": [
        "dt_params = {\n",
        "    'max_depth': 8,\n",
        "    'min_samples_split': 10,\n",
        "    'criterion': 'gini'\n",
        "}\n",
        "\n",
        "dt_clf = DecisionTreeClassifier(**dt_params, random_state=42)\n",
        "dt_clf.fit(X_train_le, y_train_le)\n",
        "y_pred_dt = dt_clf.predict(X_test_le)"
      ],
      "metadata": {
        "id": "EMgPX922wbH5"
      },
      "execution_count": 83,
      "outputs": []
    },
    {
      "cell_type": "code",
      "source": [
        "print(\"Decision Tree Classification Report:\\n\", classification_report(y_test_le, y_pred_dt))\n",
        "print(\"Decision Tree Accuracy:\", accuracy_score(y_test_le, y_pred_dt))"
      ],
      "metadata": {
        "colab": {
          "base_uri": "https://localhost:8080/"
        },
        "id": "WnuoTBri7P4m",
        "outputId": "f582041c-0952-4c4d-e307-d6f5fefa61c7"
      },
      "execution_count": 84,
      "outputs": [
        {
          "output_type": "stream",
          "name": "stdout",
          "text": [
            "Decision Tree Classification Report:\n",
            "               precision    recall  f1-score   support\n",
            "\n",
            "           0       0.98      0.78      0.87        83\n",
            "           1       0.47      0.82      0.60        11\n",
            "           2       0.97      1.00      0.99       235\n",
            "           3       0.81      1.00      0.89        17\n",
            "\n",
            "    accuracy                           0.94       346\n",
            "   macro avg       0.81      0.90      0.84       346\n",
            "weighted avg       0.95      0.94      0.94       346\n",
            "\n",
            "Decision Tree Accuracy: 0.9393063583815029\n"
          ]
        }
      ]
    },
    {
      "cell_type": "code",
      "source": [
        "plt.figure(figsize=(20, 6))\n",
        "plot_tree(dt_clf, feature_names=X_train_le.columns, class_names=le.classes_, filled=True, max_depth=3)\n",
        "plt.title(\"Decision Tree Visualization\")\n",
        "plt.show()"
      ],
      "metadata": {
        "colab": {
          "base_uri": "https://localhost:8080/",
          "height": 435
        },
        "id": "EaDmYgHj7Vu0",
        "outputId": "c0967555-4ffc-44c1-cfde-ec481bddbe55"
      },
      "execution_count": 156,
      "outputs": [
        {
          "output_type": "display_data",
          "data": {
            "text/plain": [
              "<Figure size 2000x600 with 1 Axes>"
            ],
            "image/png": "[encoded data removed]"
          },
          "metadata": {}
        }
      ]
    },
    {
      "cell_type": "code",
      "source": [
        "importances = pd.Series(dt_clf.feature_importances_, index=X_train_le.columns)\n",
        "importances = importances.sort_values(ascending=False)\n",
        "print(\"Feature importances:\\n\", importances)\n",
        "importances.plot(kind='bar')\n",
        "plt.ylabel(\"Importance\")\n",
        "plt.show()"
      ],
      "metadata": {
        "colab": {
          "base_uri": "https://localhost:8080/",
          "height": 619
        },
        "id": "ryGpnRBi8GLh",
        "outputId": "a7eeb697-1251-4e5b-d9f3-da168202b835"
      },
      "execution_count": 155,
      "outputs": [
        {
          "output_type": "stream",
          "name": "stdout",
          "text": [
            "Feature importances:\n",
            " safety      0.299864\n",
            "maint       0.268115\n",
            "persons     0.173189\n",
            "buying      0.147274\n",
            "lug_boot    0.089905\n",
            "doors       0.021653\n",
            "dtype: float64\n"
          ]
        },
        {
          "output_type": "display_data",
          "data": {
            "text/plain": [
              "<Figure size 640x480 with 1 Axes>"
            ],
            "image/png": "[encoded data removed]"
          },
          "metadata": {}
        }
      ]
    },
    {
      "cell_type": "code",
      "source": [
        "print(\"Decision Tree Training accuracy:\", dt_clf.score(X_train_le, y_train_le))\n",
        "print(\"Decision Tree Test accuracy:\", dt_clf.score(X_test_le, y_test_le))"
      ],
      "metadata": {
        "colab": {
          "base_uri": "https://localhost:8080/"
        },
        "id": "ZTgX_CZR_X5x",
        "outputId": "40c9f5b6-915d-47e6-b618-75381f6b5796"
      },
      "execution_count": 99,
      "outputs": [
        {
          "output_type": "stream",
          "name": "stdout",
          "text": [
            "Decision Tree Training accuracy: 0.947178002894356\n",
            "Decision Tree Test accuracy: 0.9393063583815029\n"
          ]
        }
      ]
    },
    {
      "cell_type": "markdown",
      "source": [
        "#### Summary"
      ],
      "metadata": {
        "id": "F0n2OANAAzHd"
      }
    },
    {
      "cell_type": "markdown",
      "source": [
        "For this model, we set the maximum depth to 8 so the tree does not grow too deep and overfit the training data, and required at least 10 samples to split an internal node, which helps the tree generalize better. The \"gini\" criterion was used to measure how well a split separates the classes. The outcome showed a very good performance, with an accuracy of about 93%. According to the classification report, the model predicted most classes very well, especially the largest one, \"unacc\", but was a bit less precise on smaller classes like \"acc\". Analyzing feature importance, the model considered \"safety\", \"maintenance\", and \"persons\" as the most influential attributes for making predictions. This tells us that the safety level and how expensive the car is to maintain play a large role in the final decision."
      ],
      "metadata": {
        "id": "3UhIPuJI7yZV"
      }
    },
    {
      "cell_type": "markdown",
      "source": [
        "### Random Forest"
      ],
      "metadata": {
        "id": "izxKB_sI70hR"
      }
    },
    {
      "cell_type": "markdown",
      "source": [
        "Training a Random Forest classifier, experimenting with parameters such as `n_estimators`, `max_features`, and `bootstrap`."
      ],
      "metadata": {
        "id": "0hSNoaFL9C5V"
      }
    },
    {
      "cell_type": "code",
      "source": [
        "rf_params = {\n",
        "    'n_estimators': 100,\n",
        "    'max_features': 'sqrt',\n",
        "    'bootstrap': True,\n",
        "    'random_state': 42\n",
        "}\n",
        "\n",
        "rf_clf = RandomForestClassifier(**rf_params)\n",
        "rf_clf.fit(X_train_le, y_train_le)\n",
        "y_pred_rf = rf_clf.predict(X_test_le)"
      ],
      "metadata": {
        "id": "fjaflGzw9GLz"
      },
      "execution_count": 157,
      "outputs": []
    },
    {
      "cell_type": "code",
      "source": [
        "print(\"Random Forest Classification Report:\\n\", classification_report(y_test_le, y_pred_rf))\n",
        "print(\"Random Forest Accuracy:\", accuracy_score(y_test_le, y_pred_rf))"
      ],
      "metadata": {
        "colab": {
          "base_uri": "https://localhost:8080/"
        },
        "id": "j9d1FNww9H75",
        "outputId": "761c7e43-1b63-44ec-bdb7-23a5241329e6"
      },
      "execution_count": 158,
      "outputs": [
        {
          "output_type": "stream",
          "name": "stdout",
          "text": [
            "Random Forest Classification Report:\n",
            "               precision    recall  f1-score   support\n",
            "\n",
            "           0       0.99      0.90      0.94        83\n",
            "           1       0.65      1.00      0.79        11\n",
            "           2       0.99      1.00      1.00       235\n",
            "           3       1.00      0.94      0.97        17\n",
            "\n",
            "    accuracy                           0.97       346\n",
            "   macro avg       0.91      0.96      0.92       346\n",
            "weighted avg       0.98      0.97      0.98       346\n",
            "\n",
            "Random Forest Accuracy: 0.9739884393063584\n"
          ]
        }
      ]
    },
    {
      "cell_type": "code",
      "source": [
        "importances_rf = pd.Series(rf_clf.feature_importances_, index=X_train_le.columns)\n",
        "importances_rf = importances_rf.sort_values(ascending=False)\n",
        "print(\"Feature importances:\\n\", importances_rf)\n",
        "importances_rf.plot(kind='bar')\n",
        "plt.title(\"Random Forest Feature Importances\")\n",
        "plt.ylabel(\"Importance\")\n",
        "plt.show()"
      ],
      "metadata": {
        "colab": {
          "base_uri": "https://localhost:8080/",
          "height": 641
        },
        "id": "eu7I9O8f9MGp",
        "outputId": "d979f0ac-ac46-4f1b-c54a-773108f3d2d4"
      },
      "execution_count": 159,
      "outputs": [
        {
          "output_type": "stream",
          "name": "stdout",
          "text": [
            "Feature importances:\n",
            " safety      0.276100\n",
            "persons     0.218374\n",
            "buying      0.190115\n",
            "maint       0.162154\n",
            "lug_boot    0.085626\n",
            "doors       0.067631\n",
            "dtype: float64\n"
          ]
        },
        {
          "output_type": "display_data",
          "data": {
            "text/plain": [
              "<Figure size 640x480 with 1 Axes>"
            ],
            "image/png": "[encoded data removed]"
          },
          "metadata": {}
        }
      ]
    },
    {
      "cell_type": "code",
      "source": [
        "print(\"Random Forest Training accuracy:\", rf_clf.score(X_train_le, y_train_le))\n",
        "print(\"Random Forest Test accuracy:\", rf_clf.score(X_test_le, y_test_le))"
      ],
      "metadata": {
        "colab": {
          "base_uri": "https://localhost:8080/"
        },
        "id": "vyv2Xq2q_bK_",
        "outputId": "0831353c-8058-4d76-d328-adc44d6d9ef6"
      },
      "execution_count": 160,
      "outputs": [
        {
          "output_type": "stream",
          "name": "stdout",
          "text": [
            "Random Forest Training accuracy: 1.0\n",
            "Random Forest Test accuracy: 0.9739884393063584\n"
          ]
        }
      ]
    },
    {
      "cell_type": "markdown",
      "source": [
        "#### Summary"
      ],
      "metadata": {
        "id": "ToefVucj9OYS"
      }
    },
    {
      "cell_type": "markdown",
      "source": [
        "I experimented with 100 trees to ensure enough variety, used the square root of the number of features at each split for randomness, and enabled bootstrapping to sample data differently for each tree. These parameter choices are common because they balance performance and computational efficiency. The model achieved even higher accuracy—about 97%. It predicted all classes very well, with especially high scores on the main class, and even the smaller classes like \"vgood\" and \"good\" were classified better than with the single decision tree. Feature importance analysis revealed that \"safety\" and \"persons\" are still very influential, but \"buying\" and \"maintenance\" also play a significant role. This result shows that the Random Forest captures the decision logic in the data very well, benefiting from combining multiple trees."
      ],
      "metadata": {
        "id": "JUuvuOacBYaf"
      }
    },
    {
      "cell_type": "markdown",
      "source": [
        "### Neural Network"
      ],
      "metadata": {
        "id": "nliq2r_G9Ow0"
      }
    },
    {
      "cell_type": "markdown",
      "source": [
        "Training a simple Neural Network using the one-hot encoded features, and experimenting with the number of `hidden layers`, `activation functions`, and `learning rates`."
      ],
      "metadata": {
        "id": "93c8tvYO9RFa"
      }
    },
    {
      "cell_type": "code",
      "source": [
        "nn_params = {\n",
        "    'hidden_layer_sizes': (32, 16),\n",
        "    'activation': 'logistic',\n",
        "    'learning_rate_init': 0.01,\n",
        "    'max_iter': 400,\n",
        "    'random_state': 42\n",
        "}\n",
        "\n",
        "mlp_clf = MLPClassifier(**nn_params)\n",
        "mlp_clf.fit(X_train_nn, y_train_nn)\n",
        "y_pred_nn = mlp_clf.predict(X_test_nn)"
      ],
      "metadata": {
        "id": "QKuB0ET89cnW"
      },
      "execution_count": 161,
      "outputs": []
    },
    {
      "cell_type": "code",
      "source": [
        "print(\"Neural Network Classification Report:\\n\", classification_report(y_test_nn, y_pred_nn, target_names=le_target.classes_))\n",
        "print(\"Neural Network Accuracy:\", accuracy_score(y_test_nn, y_pred_nn))"
      ],
      "metadata": {
        "colab": {
          "base_uri": "https://localhost:8080/"
        },
        "id": "Kw3tuOUs9klD",
        "outputId": "eaff7b72-c2b6-497e-c5f5-27c257f501bd"
      },
      "execution_count": 162,
      "outputs": [
        {
          "output_type": "stream",
          "name": "stdout",
          "text": [
            "Neural Network Classification Report:\n",
            "               precision    recall  f1-score   support\n",
            "\n",
            "         acc       1.00      0.99      0.99        83\n",
            "        good       0.85      1.00      0.92        11\n",
            "       unacc       1.00      1.00      1.00       235\n",
            "       vgood       1.00      0.94      0.97        17\n",
            "\n",
            "    accuracy                           0.99       346\n",
            "   macro avg       0.96      0.98      0.97       346\n",
            "weighted avg       1.00      0.99      0.99       346\n",
            "\n",
            "Neural Network Accuracy: 0.9942196531791907\n"
          ]
        }
      ]
    },
    {
      "cell_type": "code",
      "source": [
        "print(\"Neural Network Training accuracy:\", mlp_clf.score(X_train_nn, y_train_nn))\n",
        "print(\"Neural Network Test accuracy:\", mlp_clf.score(X_test_nn, y_test_nn))"
      ],
      "metadata": {
        "colab": {
          "base_uri": "https://localhost:8080/"
        },
        "id": "7gRgWFFG_I32",
        "outputId": "9966ce74-26b8-471c-d1f3-7178896a5677"
      },
      "execution_count": 163,
      "outputs": [
        {
          "output_type": "stream",
          "name": "stdout",
          "text": [
            "Neural Network Training accuracy: 1.0\n",
            "Neural Network Test accuracy: 0.9942196531791907\n"
          ]
        }
      ]
    },
    {
      "cell_type": "markdown",
      "source": [
        "#### Summary"
      ],
      "metadata": {
        "id": "4Dqy3MQN9sjB"
      }
    },
    {
      "cell_type": "markdown",
      "source": [
        "I chose two hidden layers with 32 and 16 neurons each, a \"logistic\" activation function to introduce nonlinearity, a relatively fast learning rate of 0.01, and allowed up to 500 iterations for training. These choices provide enough capacity for the network to learn but avoid making it unnecessarily large. The neural network achieved the highest accuracy, nearly 99.4%. The results show that the model classified all classes very accurately, and especially excelled in predicting the most common classes without any significant errors. This suggests that the neural network is able to model the patterns in this dataset extremely well, possibly even better than tree-based methods for this specific problem."
      ],
      "metadata": {
        "id": "fJn0rJCOBoMT"
      }
    },
    {
      "cell_type": "markdown",
      "source": [
        "## Comparison"
      ],
      "metadata": {
        "id": "ddDtEHhABy7H"
      }
    },
    {
      "cell_type": "markdown",
      "source": [
        "### Decision Tree"
      ],
      "metadata": {
        "id": "g8CTEO1WCg75"
      }
    },
    {
      "cell_type": "code",
      "source": [
        "print(\"Decision Tree Accuracy:\", dt_clf.score(X_test_le, y_test_le))\n",
        "print(\"\\nDecision Tree Classification Report:\")\n",
        "print(classification_report(y_test_le, y_pred_dt, target_names=le.classes_))"
      ],
      "metadata": {
        "colab": {
          "base_uri": "https://localhost:8080/"
        },
        "id": "ZWc_liFcCiyG",
        "outputId": "3fb9e85e-66b7-4b64-eeb8-5af022d6daf7"
      },
      "execution_count": 170,
      "outputs": [
        {
          "output_type": "stream",
          "name": "stdout",
          "text": [
            "Decision Tree Accuracy: 0.9393063583815029\n",
            "\n",
            "Decision Tree Classification Report:\n",
            "              precision    recall  f1-score   support\n",
            "\n",
            "         acc       0.98      0.78      0.87        83\n",
            "        good       0.47      0.82      0.60        11\n",
            "       unacc       0.97      1.00      0.99       235\n",
            "       vgood       0.81      1.00      0.89        17\n",
            "\n",
            "    accuracy                           0.94       346\n",
            "   macro avg       0.81      0.90      0.84       346\n",
            "weighted avg       0.95      0.94      0.94       346\n",
            "\n"
          ]
        }
      ]
    },
    {
      "cell_type": "markdown",
      "source": [
        "### Random Forest"
      ],
      "metadata": {
        "id": "jeEKf9dPCsaC"
      }
    },
    {
      "cell_type": "code",
      "source": [
        "print(\"Random Forest Accuracy:\", rf_clf.score(X_test_le, y_test_le))\n",
        "print(\"\\nRandom Forest Classification Report:\")\n",
        "print(classification_report(y_test_le, y_pred_rf, target_names=le.classes_))"
      ],
      "metadata": {
        "colab": {
          "base_uri": "https://localhost:8080/"
        },
        "id": "vTzJoRQNCuB9",
        "outputId": "f2618ed6-61c3-45db-c171-1a2f2feae41e"
      },
      "execution_count": 172,
      "outputs": [
        {
          "output_type": "stream",
          "name": "stdout",
          "text": [
            "Random Forest Accuracy: 0.9739884393063584\n",
            "\n",
            "Random Forest Classification Report:\n",
            "              precision    recall  f1-score   support\n",
            "\n",
            "         acc       0.99      0.90      0.94        83\n",
            "        good       0.65      1.00      0.79        11\n",
            "       unacc       0.99      1.00      1.00       235\n",
            "       vgood       1.00      0.94      0.97        17\n",
            "\n",
            "    accuracy                           0.97       346\n",
            "   macro avg       0.91      0.96      0.92       346\n",
            "weighted avg       0.98      0.97      0.98       346\n",
            "\n"
          ]
        }
      ]
    },
    {
      "cell_type": "markdown",
      "source": [
        "### Neural Network"
      ],
      "metadata": {
        "id": "XPtp1B2rCy4R"
      }
    },
    {
      "cell_type": "code",
      "source": [
        "print(\"Neural Network Accuracy:\", mlp_clf.score(X_test_nn, y_test_nn))\n",
        "print(\"\\nNeural Network Classification Report:\")\n",
        "print(classification_report(y_test_nn, y_pred_nn, target_names=le_target.classes_))"
      ],
      "metadata": {
        "colab": {
          "base_uri": "https://localhost:8080/"
        },
        "id": "rnmKVI4aC35H",
        "outputId": "e6cab21a-d490-41bf-9a77-6181ba0d8ca3"
      },
      "execution_count": 174,
      "outputs": [
        {
          "output_type": "stream",
          "name": "stdout",
          "text": [
            "Neural Network Accuracy: 0.9942196531791907\n",
            "\n",
            "Neural Network Classification Report:\n",
            "              precision    recall  f1-score   support\n",
            "\n",
            "         acc       1.00      0.99      0.99        83\n",
            "        good       0.85      1.00      0.92        11\n",
            "       unacc       1.00      1.00      1.00       235\n",
            "       vgood       1.00      0.94      0.97        17\n",
            "\n",
            "    accuracy                           0.99       346\n",
            "   macro avg       0.96      0.98      0.97       346\n",
            "weighted avg       1.00      0.99      0.99       346\n",
            "\n"
          ]
        }
      ]
    },
    {
      "cell_type": "markdown",
      "source": [
        "## Conclusion"
      ],
      "metadata": {
        "id": "DpVyH48wC8VP"
      }
    },
    {
      "cell_type": "markdown",
      "source": [
        "Based on the accuracy and the classification reports, all three models performed very well on the car evaluation dataset. The Decision Tree achieved an accuracy of approximately 93%, the Random Forest reached about 97%, and the Neural Network outperformed both with an accuracy of nearly 99%. In terms of precision, recall, and F1-score, the neural network and random forest models achieved very high values across almost all classes, while the decision tree was slightly less consistent, especially on smaller classes. All models predicted the main class (\"unacc\") with very high precision and recall, but the neural network had the most balanced performance for every class."
      ],
      "metadata": {
        "id": "eu_GXJSYDAOd"
      }
    }
  ]
}